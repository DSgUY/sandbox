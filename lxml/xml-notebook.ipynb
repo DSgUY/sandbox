{
 "cells": [
  {
   "cell_type": "code",
   "execution_count": null,
   "metadata": {},
   "outputs": [],
   "source": [
    "# import library\n",
    "from lxml import etree"
   ]
  },
  {
   "attachments": {},
   "cell_type": "markdown",
   "metadata": {},
   "source": [
    "# The ElementTree Class"
   ]
  },
  {
   "attachments": {},
   "cell_type": "markdown",
   "metadata": {},
   "source": [
    "An **ElementTree** is mainly a document wrapper around a **tree** with a **root** node.  It provides a couple of methods for serialisation and general document handling. One of the important differences is that the ElementTree class serialises as a complete document, as opposed to a single Element. This includes top-level processing instructions and comments, as well as a DOCTYPE and other DTD content in the document\n",
    "\n",
    "https://lxml.de/tutorial.html#the-elementtree-class"
   ]
  },
  {
   "cell_type": "code",
   "execution_count": null,
   "metadata": {},
   "outputs": [
    {
     "name": "stdout",
     "output_type": "stream",
     "text": [
      "<class 'lxml.etree._ElementTree'>\n"
     ]
    }
   ],
   "source": [
    "# Load XML file\n",
    "# An ElementTree is also what you get back when you call the parse() function to parse files or file-like objects.\n",
    "tree = etree.parse(source='movie-short.xml', parser=None)\n",
    "print (type(tree))"
   ]
  },
  {
   "cell_type": "code",
   "execution_count": null,
   "metadata": {},
   "outputs": [
    {
     "name": "stdout",
     "output_type": "stream",
     "text": [
      "1.0\n"
     ]
    }
   ],
   "source": [
    "print (tree.docinfo.xml_version)"
   ]
  },
  {
   "cell_type": "code",
   "execution_count": null,
   "metadata": {},
   "outputs": [
    {
     "name": "stdout",
     "output_type": "stream",
     "text": [
      "\n"
     ]
    }
   ],
   "source": [
    "print (tree.docinfo.doctype)"
   ]
  },
  {
   "cell_type": "code",
   "execution_count": null,
   "metadata": {},
   "outputs": [
    {
     "name": "stdout",
     "output_type": "stream",
     "text": [
      "b'<collection>\\n    <genre category=\"Action\">\\n        <decade years=\"1980s\">\\n            <movie favorite=\"True\" title=\"Indiana Jones: The raiders of the lost Ark\">\\n                <format multiple=\"No\">DVD</format>\\n                <year>1981</year>\\n                <rating>PG</rating>\\n                <description>                    \\'Archaeologist and adventurer Indiana Jones                    is hired by the U.S. government to find the Ark of the                    Covenant before the Nazis.\\'                </description>\\n            </movie>\\n            <movie favorite=\"True\" title=\"THE KARATE KID\">\\n                <format multiple=\"Yes\">DVD,Online</format>\\n                <year>1984</year>\\n                <rating>PG</rating>\\n                <description>None provided.</description>\\n            </movie>\\n            <movie favorite=\"False\" title=\"Back 2 the Future\">\\n                <format multiple=\"False\">Blu-ray</format>\\n                <year>1985</year>\\n                <rating>PG</rating>\\n                <description>Marty McFly</description>\\n            </movie>\\n        </decade>\\n        <decade years=\"1990s\">\\n            <movie favorite=\"False\" title=\"X-Men\">\\n                <format multiple=\"Yes\">dvd, digital</format>\\n                <year>2000</year>\\n                <rating>PG-13</rating>\\n                <description>Two mutants come to a private academy for their kind whose resident                    superhero team must                    oppose a terrorist organization with similar powers.</description>\\n            </movie>\\n            <movie favorite=\"True\" title=\"Batman Returns\">\\n                <format multiple=\"No\">VHS</format>\\n                <year>1992</year>\\n                <rating>PG13</rating>\\n                <description>NA.</description>\\n            </movie>\\n            <movie favorite=\"False\" title=\"Reservoir Dogs\">\\n                <format multiple=\"No\">Online</format>\\n                <year>1992</year>\\n                <rating>R</rating>\\n                <description>WhAtEvER I Want!!!?!</description>\\n            </movie>\\n        </decade>\\n    </genre>\\n    <genre category=\"Thriller\">\\n        <decade years=\"1970s\">\\n            <movie favorite=\"False\" title=\"ALIEN\">\\n                <format multiple=\"Yes\">DVD</format>\\n                <year>1979</year>\\n                <rating>R</rating>\\n                <description>\"\"\"\"\"\"\"\"\"</description>\\n            </movie>\\n        </decade>\\n        <decade years=\"1980s\">\\n            <movie favorite=\"True\" title=\"Ferris Bueller\\'s Day Off\">\\n                <format multiple=\"No\">DVD</format>\\n                <year>1986</year>\\n                <rating>PG13</rating>\\n                <description>Funny movie about a funny guy</description>\\n            </movie>\\n            <movie favorite=\"FALSE\" title=\"American Psycho\">\\n                <format multiple=\"No\">blue-ray</format>\\n                <year>2000</year>\\n                <rating>Unrated</rating>\\n                <description>psychopathic Bateman</description>\\n            </movie>\\n        </decade>\\n    </genre>\\n</collection>'\n"
     ]
    }
   ],
   "source": [
    "print(etree.tostring(tree))"
   ]
  },
  {
   "attachments": {},
   "cell_type": "markdown",
   "metadata": {},
   "source": [
    "# Element Class"
   ]
  },
  {
   "attachments": {},
   "cell_type": "markdown",
   "metadata": {},
   "source": [
    "An **Element** is the main container object for the **ElementTree API**. Most of the XML tree functionality is accessed through this class.  \n",
    "https://lxml.de/tutorial.html#the-element-class"
   ]
  },
  {
   "cell_type": "code",
   "execution_count": null,
   "metadata": {},
   "outputs": [
    {
     "name": "stdout",
     "output_type": "stream",
     "text": [
      "<class 'lxml.etree._Element'>\n",
      "collection\n",
      "2\n"
     ]
    }
   ],
   "source": [
    "root = tree.getroot()\n",
    "print (type(root))\n",
    "print (root.tag)\n",
    "print (len(root))"
   ]
  },
  {
   "cell_type": "code",
   "execution_count": null,
   "metadata": {},
   "outputs": [
    {
     "name": "stdout",
     "output_type": "stream",
     "text": [
      "[<Element genre at 0x1de47a58940>, <Element genre at 0x1de47a593c0>]\n",
      "genre\n"
     ]
    }
   ],
   "source": [
    "# Children\n",
    "children = root.getchildren()\n",
    "print (children)\n",
    "print (children[0].tag)"
   ]
  },
  {
   "cell_type": "code",
   "execution_count": null,
   "metadata": {},
   "outputs": [
    {
     "name": "stdout",
     "output_type": "stream",
     "text": [
      "[]\n"
     ]
    }
   ],
   "source": [
    "print (root.keys())"
   ]
  }
 ],
 "metadata": {
  "kernelspec": {
   "display_name": "Python 3",
   "language": "python",
   "name": "python3"
  },
  "language_info": {
   "codemirror_mode": {
    "name": "ipython",
    "version": 3
   },
   "file_extension": ".py",
   "mimetype": "text/x-python",
   "name": "python",
   "nbconvert_exporter": "python",
   "pygments_lexer": "ipython3",
   "version": "3.10.4"
  },
  "orig_nbformat": 4,
  "vscode": {
   "interpreter": {
    "hash": "3ad933181bd8a04b432d3370b9dc3b0662ad032c4dfaa4e4f1596c548f763858"
   }
  }
 },
 "nbformat": 4,
 "nbformat_minor": 2
}
